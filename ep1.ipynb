{
 "cells": [
  {
   "cell_type": "code",
   "execution_count": null,
   "id": "e11e13a2",
   "metadata": {},
   "outputs": [],
   "source": [
    "import qiskit"
   ]
  },
  {
   "cell_type": "code",
   "execution_count": null,
   "id": "8b09615d",
   "metadata": {},
   "outputs": [],
   "source": [
    "qiskit.__version__"
   ]
  },
  {
   "cell_type": "code",
   "execution_count": null,
   "id": "31136aff",
   "metadata": {},
   "outputs": [],
   "source": [
    "# Pauli X,Y,Z gates\n",
    "# Hadamard Gate\n",
    "# R-phi gate\n",
    "# I,S,T gate\n",
    "# General U gate\n"
   ]
  },
  {
   "cell_type": "code",
   "execution_count": null,
   "id": "eeb25e55",
   "metadata": {},
   "outputs": [],
   "source": [
    "qc = qiskit.QuantumCircuit(1) # Create a quantum circuit with 1 qubit, starting in |0>\n",
    "qc.x(0)  # Apply Pauli-X gate\n",
    "qc.draw('mpl')  # Draw the circuit"
   ]
  },
  {
   "cell_type": "code",
   "execution_count": null,
   "id": "05731983",
   "metadata": {},
   "outputs": [],
   "source": [
    "#backend= qiskit.Aer.get_backend('statevector_simulator')  # Get the statevector simulator backend\n",
    "\n",
    "from qiskit_aer import Aer\n",
    "#from qiskit import execute, get_statevector\n",
    "\n",
    "backend = Aer.get_backend('statevector_simulator')  # Get the statevector simulator backend\n",
    "#out = execute(qc, backend).result(),get_statevector()  # Execute the circuit on the backend\n",
    "compiled_circuit = qiskit.transpile(qc, backend)  # Compile the circuit for the backend\n",
    "out = backend.run(compiled_circuit).result().get_statevector()  # Run the compiled circuit on the backend"
   ]
  },
  {
   "cell_type": "code",
   "execution_count": null,
   "id": "421b68b2",
   "metadata": {},
   "outputs": [],
   "source": [
    "from qiskit.visualization import plot_bloch_multivector\n",
    "plot_bloch_multivector(out)  # Plot the Bloch vector of the output state"
   ]
  },
  {
   "cell_type": "code",
   "execution_count": null,
   "id": "732ee631",
   "metadata": {},
   "outputs": [],
   "source": [
    "qc.draw('mpl')  # Draw the circuit again"
   ]
  },
  {
   "cell_type": "code",
   "execution_count": null,
   "id": "39c04ee4",
   "metadata": {},
   "outputs": [],
   "source": [
    "####pip install qiskit-aer\n",
    "####conda install -c conda-forge qiskit-aer"
   ]
  },
  {
   "cell_type": "code",
   "execution_count": null,
   "id": "bc2af017",
   "metadata": {},
   "outputs": [],
   "source": [
    "import qiskit\n",
    "qc= qiskit.QuantumCircuit(1)\n",
    "#initial_state = [0,1]  # Create a quantum circuit with 1 qubit, starting in |0>\n",
    "#qc.initialize(initial_state, 0)  # Initialize the qubit to |1>\n",
    "qc.x(0)  # Apply Pauli-X gate\n",
    "qc.draw()  # Draw the circuit\n",
    "\n",
    "from qiskit_aer import Aer\n",
    "from qiskit.visualization import plot_bloch_multivector,visualize_transition, plot_histogram\n",
    "backend = Aer.get_backend('statevector_simulator')  # Get the statevector simulator backend\n",
    "compiled_circuit = qiskit.transpile(qc, backend)  # Compile the circuit for the backend\n",
    "out = backend.run(compiled_circuit).result().get_statevector()  # Run the compiled circuit on the backend\n",
    "#plot_bloch_multivector(out)  # Plot the Bloch vector of the output state\n",
    "visualize_transition(qc)\n",
    "\n"
   ]
  },
  {
   "cell_type": "code",
   "execution_count": null,
   "id": "d3281fb1",
   "metadata": {},
   "outputs": [],
   "source": [
    "import qiskit\n",
    "qc= qiskit.QuantumCircuit(1)\n",
    "qc.x(0)  # Apply Pauli-X gate\n",
    "\n",
    "from qiskit_aer import AerSimulator\n",
    "from qiskit.visualization import plot_histogram\n",
    "similator = AerSimulator()  # Get the statevector simulator backend\n",
    "compiled_circuit = qiskit.transpile(qc, similator)  # Compile the circuit for the backend\n",
    "compiled_circuit.measure_all()  # Add measurement to all qubits\n",
    "out = similator.run(compiled_circuit).result().get_counts()  # Run the compiled circuit on the backend\n",
    "plot_histogram(out)  # Plot the histogram of the output state\n"
   ]
  },
  {
   "cell_type": "code",
   "execution_count": null,
   "id": "bffc3d61",
   "metadata": {},
   "outputs": [],
   "source": []
  }
 ],
 "metadata": {
  "kernelspec": {
   "display_name": "cwq",
   "language": "python",
   "name": "python3"
  },
  "language_info": {
   "codemirror_mode": {
    "name": "ipython",
    "version": 3
   },
   "file_extension": ".py",
   "mimetype": "text/x-python",
   "name": "python",
   "nbconvert_exporter": "python",
   "pygments_lexer": "ipython3",
   "version": "3.13.3"
  }
 },
 "nbformat": 4,
 "nbformat_minor": 5
}
