{
 "cells": [
  {
   "cell_type": "code",
   "execution_count": null,
   "id": "dc271bb4",
   "metadata": {},
   "outputs": [],
   "source": [
    "from qiskit import QuantumCircuit\n",
    "from qiskit_ibm_runtime import QiskitRuntimeService, SamplerV2 as Sampler\n",
    "\n",
    "qc = QuantumCircuit(2)\n",
    "qc.measure_all()\n",
    "\n",
    "service = QiskitRuntimeService(channel=\"ibm_quantum\",token=\"6c34f27f6fcf474d7acf09a3beafa76bb94ce1f7f367c80dbb9bdbff00f55a62f414ae6a4c277a0500367525370d30668e99da320d5d70b57c8103c16109a782\")\n",
    "print(service.backends())\n",
    "\n",
    "\n",
    "# backend = service.least_busy(simulator=False,operational=True)\n",
    "\n",
    "# sampler = Sampler(backend)\n",
    "# job = sampler.run([qc])\n",
    "# print(f\"job id: {job.job_id()}\")\n",
    "# result = job.result()\n",
    "# print(f\"result: {result}\")"
   ]
  },
  {
   "cell_type": "code",
   "execution_count": null,
   "id": "6ce3acf1",
   "metadata": {},
   "outputs": [],
   "source": [
    "for backend in service.backends():\n",
    "    if backend.status().operational:\n",
    "        print(f\"Backend: {backend.name}\")\n",
    "        #print(f\"Status: {backend.status().status_str}\")\n",
    "        print(f\"Max shots: {backend.configuration().max_shots}\")\n",
    "        print(f\"Number of qubits: {backend.configuration().n_qubits}\")\n",
    "        print(f\"Is simulator: {backend.configuration().simulator}\")\n",
    "        print(f\"pending_jobs: {backend.status().pending_jobs}\")\n",
    "        print(\"-\" * 40)\n",
    "    else:\n",
    "        print(f\"Backend {backend.name} is not operational.\")"
   ]
  },
  {
   "cell_type": "code",
   "execution_count": null,
   "id": "439797b9",
   "metadata": {},
   "outputs": [],
   "source": []
  }
 ],
 "metadata": {
  "kernelspec": {
   "display_name": "cwq",
   "language": "python",
   "name": "python3"
  },
  "language_info": {
   "codemirror_mode": {
    "name": "ipython",
    "version": 3
   },
   "file_extension": ".py",
   "mimetype": "text/x-python",
   "name": "python",
   "nbconvert_exporter": "python",
   "pygments_lexer": "ipython3",
   "version": "3.13.3"
  }
 },
 "nbformat": 4,
 "nbformat_minor": 5
}
