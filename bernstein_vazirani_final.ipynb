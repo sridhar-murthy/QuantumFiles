{
 "cells": [
  {
   "cell_type": "code",
   "execution_count": null,
   "id": "ec8597d8",
   "metadata": {},
   "outputs": [],
   "source": [
    "\n",
    "import qiskit\n",
    "from qiskit import QuantumCircuit"
   ]
  },
  {
   "cell_type": "code",
   "execution_count": null,
   "id": "8ceb3b13",
   "metadata": {},
   "outputs": [],
   "source": [
    "\n",
    "# secretNumber = '10101010100'\n",
    "secretNumber = '1000101'\n",
    "circuit = QuantumCircuit(len(secretNumber)+1,len(secretNumber))"
   ]
  },
  {
   "cell_type": "code",
   "execution_count": null,
   "id": "47d4b192",
   "metadata": {},
   "outputs": [],
   "source": [
    "circuit.h(range(len(secretNumber)))\n",
    "circuit.x(len(secretNumber))\n",
    "circuit.h(len(secretNumber))\n",
    "\n",
    "circuit.barrier()\n",
    "\n",
    "for index, one in enumerate(reversed(secretNumber)):\n",
    "    print(f\"index{index} is {one}\")\n",
    "    if one == \"1\":\n",
    "        circuit.cx(index,len(secretNumber))\n",
    "\n",
    "circuit.barrier()\n",
    "\n",
    "circuit.h(range(len(secretNumber)))\n",
    "\n",
    "circuit.barrier()\n",
    "\n",
    "circuit.measure(range(len(secretNumber)),range(len(secretNumber)))"
   ]
  },
  {
   "cell_type": "code",
   "execution_count": null,
   "id": "7fd58921",
   "metadata": {},
   "outputs": [],
   "source": [
    "circuit.draw(output='mpl')"
   ]
  },
  {
   "cell_type": "code",
   "execution_count": null,
   "id": "e288a52e",
   "metadata": {},
   "outputs": [],
   "source": [
    "from qiskit_aer import AerSimulator\n",
    "from qiskit.visualization import plot_histogram\n",
    "\n",
    "simulator = AerSimulator()\n",
    "compiled_circuit = qiskit.transpile(circuit, simulator)\n",
    "count = simulator.run(compiled_circuit,shots=1024).result().get_counts()\n",
    "print(count)"
   ]
  },
  {
   "cell_type": "code",
   "execution_count": null,
   "id": "f467953f",
   "metadata": {},
   "outputs": [],
   "source": [
    "plot_histogram(count)"
   ]
  }
 ],
 "metadata": {
  "language_info": {
   "name": "python"
  }
 },
 "nbformat": 4,
 "nbformat_minor": 5
}
