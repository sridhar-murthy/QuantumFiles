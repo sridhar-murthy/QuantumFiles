{
 "cells": [
  {
   "cell_type": "markdown",
   "id": "6d6388de",
   "metadata": {},
   "source": [
    "# 6 Program"
   ]
  },
  {
   "cell_type": "code",
   "execution_count": null,
   "id": "8f9e1da5",
   "metadata": {},
   "outputs": [],
   "source": [
    "from qiskit import QuantumCircuit\n",
    "from qiskit.circuit.library import QFT\n",
    "\n",
    "# QFT on 3 qubits\n",
    "qc = QuantumCircuit(1)\n",
    "qc.h(0)\n",
    "\n",
    "qc.draw('mpl')"
   ]
  },
  {
   "cell_type": "code",
   "execution_count": null,
   "id": "5db23e8d",
   "metadata": {},
   "outputs": [],
   "source": [
    "import qiskit\n",
    "from qiskit_aer import Aer\n",
    "from qiskit.visualization import plot_bloch_multivector\n",
    "\n",
    "backend = Aer.get_backend(\"statevector_simulator\")\n",
    "compiled_circuit = qiskit.transpile(qc, backend=backend)\n",
    "out = backend.run(compiled_circuit).result().get_statevector()\n",
    "\n",
    "plot_bloch_multivector(out) "
   ]
  },
  {
   "cell_type": "code",
   "execution_count": null,
   "id": "c033d9e2",
   "metadata": {},
   "outputs": [],
   "source": [
    "from qiskit_ibm_runtime import QiskitRuntimeService\n",
    "\n",
    "# service = QiskitRuntimeService(channel=\"ibm_cloud\", token=\"DUb23nNTsdzOJCjPkmHTu_kXfbKztthIHydMCat1yw66\" instance=\"ibm-q/open/main\")\n",
    "service = QiskitRuntimeService(channel=\"ibm_cloud\", token=\"token here\", instance=\"TestInstance\")\n",
    "backend = service.least_busy(\n",
    "    operational=True, simulator=False, min_num_qubits=127\n",
    ")\n",
    "print(f\"Least busy backend: {backend.name}\")\n",
    "# Print properties of each backend\n",
    "for b in service.backends():\n",
    "    print(f\"Backend name: {b.name}\")\n",
    "    print(\"Details:\", b.configuration().to_dict())\n",
    "    # try:\n",
    "    #     props = b.properties()\n",
    "    #     if props:\n",
    "    #         print(\"Qubit properties:\")\n",
    "    #         for idx, qubit in enumerate(props.qubits):\n",
    "    #             print(f\"  Qubit {idx}:\")\n",
    "    #             for char in qubit:\n",
    "    #                 print(f\"    {char.name}: {char.value} {char.unit}\")\n",
    "    #     else:\n",
    "    #         print(\"No qubit properties available.\")\n",
    "    # except Exception as e:\n",
    "    #     print(f\"Could not retrieve properties: {e}\")\n",
    "    # print(\"-\" * 40)\n",
    "\n",
    "# # Print all available backends from the service\n",
    "# for b in service.backends():\n",
    "#     print(b.name)\n"
   ]
  }
 ],
 "metadata": {
  "kernelspec": {
   "display_name": "cwq",
   "language": "python",
   "name": "python3"
  },
  "language_info": {
   "codemirror_mode": {
    "name": "ipython",
    "version": 3
   },
   "file_extension": ".py",
   "mimetype": "text/x-python",
   "name": "python",
   "nbconvert_exporter": "python",
   "pygments_lexer": "ipython3",
   "version": "3.13.3"
  }
 },
 "nbformat": 4,
 "nbformat_minor": 5
}
