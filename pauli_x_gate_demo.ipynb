{
 "cells": [
  {
   "cell_type": "markdown",
   "id": "d7650946",
   "metadata": {},
   "source": [
    "# pauli x gate demo"
   ]
  },
  {
   "cell_type": "code",
   "execution_count": null,
   "id": "e94164ee",
   "metadata": {},
   "outputs": [],
   "source": [
    "import qiskit\n",
    "from qiskit import QuantumCircuit\n",
    "\n",
    "circuit = QuantumCircuit(1)\n",
    "# initial_state = [0, 1]  # Initial state |1>\n",
    "# Initialize the circuit with the initial state     \n",
    "# circuit.initialize(initial_state, 0)    \n",
    "circuit.x(0)\n",
    "circuit.draw(\"mpl\")"
   ]
  },
  {
   "cell_type": "code",
   "execution_count": null,
   "id": "b4c04ba8",
   "metadata": {},
   "outputs": [],
   "source": [
    "from qiskit_aer import Aer\n",
    "from qiskit.visualization import plot_bloch_multivector\n",
    "\n",
    "backend = Aer.get_backend(\"statevector_simulator\")\n",
    "compiled_circuit = qiskit.transpile(circuit, backend=backend)\n",
    "out = backend.run(compiled_circuit).result().get_statevector()\n",
    "\n",
    "plot_bloch_multivector(out) "
   ]
  },
  {
   "cell_type": "code",
   "execution_count": null,
   "id": "c80e00d8",
   "metadata": {},
   "outputs": [],
   "source": [
    "from qiskit.visualization import visualize_transition\n",
    "visualize_transition(circuit)"
   ]
  },
  {
   "cell_type": "code",
   "execution_count": null,
   "id": "001b01bb",
   "metadata": {},
   "outputs": [],
   "source": [
    "from qiskit_aer import AerSimulator\n",
    "from qiskit.visualization import plot_histogram\n",
    "\n",
    "simulator = AerSimulator()\n",
    "compiled_circuit = qiskit.transpile(circuit, simulator)\n",
    "compiled_circuit.measure_all()\n",
    "out = simulator.run(compiled_circuit).result().get_counts()\n",
    "plot_histogram(out) "
   ]
  },
  {
   "cell_type": "code",
   "execution_count": null,
   "id": "1452dfdb",
   "metadata": {},
   "outputs": [],
   "source": [
    "circuit2 = QuantumCircuit(1)\n",
    "circuit2.x(0)\n",
    "circuit2.x(0)\n",
    "\n",
    "from qiskit.visualization import visualize_transition\n",
    "visualize_transition(circuit2)"
   ]
  },
  {
   "cell_type": "code",
   "execution_count": null,
   "id": "0168fc6d",
   "metadata": {},
   "outputs": [],
   "source": []
  }
 ],
 "metadata": {
  "kernelspec": {
   "display_name": "cwq",
   "language": "python",
   "name": "python3"
  },
  "language_info": {
   "codemirror_mode": {
    "name": "ipython",
    "version": 3
   },
   "file_extension": ".py",
   "mimetype": "text/x-python",
   "name": "python",
   "nbconvert_exporter": "python",
   "pygments_lexer": "ipython3",
   "version": "3.13.3"
  }
 },
 "nbformat": 4,
 "nbformat_minor": 5
}
