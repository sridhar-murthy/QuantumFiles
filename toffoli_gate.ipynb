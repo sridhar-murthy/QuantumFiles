{
 "cells": [
  {
   "cell_type": "code",
   "execution_count": null,
   "id": "1fcd0aa9",
   "metadata": {},
   "outputs": [],
   "source": [
    "import qiskit\n",
    "from qiskit_aer import Aer\n",
    "from qiskit.visualization import plot_histogram, plot_bloch_multivector\n",
    "from qiskit import QuantumCircuit\n",
    "\n",
    "circuit = QuantumCircuit(3, 3)\n",
    "# circuit.x(0)\n",
    "# circuit.x(1)\n",
    "# circuit.x(2)\n",
    "circuit.ccx(0, 1, 2)  # Apply Toffoli gate\n",
    "\n",
    "circuit.draw('mpl')"
   ]
  },
  {
   "cell_type": "code",
   "execution_count": null,
   "id": "b484a5ec",
   "metadata": {},
   "outputs": [],
   "source": [
    "simulator = Aer.get_backend('statevector_simulator')\n",
    "compiled_circuit = qiskit.transpile(circuit, backend=simulator)\n",
    "compiled_circuit.measure_all() \n",
    "result = simulator.run(compiled_circuit, shots=1024).result()\n",
    "\n",
    "statevector = simulator.run(circuit).result().get_statevector()\n",
    "plot_bloch_multivector(statevector)\n"
   ]
  }
 ],
 "metadata": {
  "kernelspec": {
   "display_name": "cwq",
   "language": "python",
   "name": "python3"
  },
  "language_info": {
   "codemirror_mode": {
    "name": "ipython",
    "version": 3
   },
   "file_extension": ".py",
   "mimetype": "text/x-python",
   "name": "python",
   "nbconvert_exporter": "python",
   "pygments_lexer": "ipython3",
   "version": "3.13.3"
  }
 },
 "nbformat": 4,
 "nbformat_minor": 5
}
