{
 "cells": [
  {
   "cell_type": "code",
   "execution_count": null,
   "id": "76c7a6f0",
   "metadata": {},
   "outputs": [],
   "source": [
    "import qiskit\n",
    "circuit = qiskit.QuantumCircuit(2)\n",
    "circuit.x(0)\n",
    "circuit.swap(0,1)\n",
    "circuit.draw('mpl')"
   ]
  },
  {
   "cell_type": "markdown",
   "id": "8cb8417d",
   "metadata": {},
   "source": [
    "# SHOW SWAP IN THE QUANTUM COMPUTER"
   ]
  },
  {
   "cell_type": "code",
   "execution_count": null,
   "id": "c5e6141c",
   "metadata": {},
   "outputs": [],
   "source": [
    "from qiskit_aer import Aer\n",
    "from qiskit.visualization import plot_bloch_multivector\n",
    "\n",
    "backend = Aer.get_backend(\"statevector_simulator\")\n",
    "compiled_circuit = qiskit.transpile(circuit, backend=backend)\n",
    "out = backend.run(compiled_circuit).result().get_statevector()\n",
    "\n",
    "plot_bloch_multivector(out) \n"
   ]
  }
 ],
 "metadata": {
  "kernelspec": {
   "display_name": "cwq",
   "language": "python",
   "name": "python3"
  },
  "language_info": {
   "codemirror_mode": {
    "name": "ipython",
    "version": 3
   },
   "file_extension": ".py",
   "mimetype": "text/x-python",
   "name": "python",
   "nbconvert_exporter": "python",
   "pygments_lexer": "ipython3",
   "version": "3.13.3"
  }
 },
 "nbformat": 4,
 "nbformat_minor": 5
}
