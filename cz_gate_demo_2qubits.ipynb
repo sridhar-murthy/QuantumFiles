{
 "cells": [
  {
   "cell_type": "code",
   "execution_count": null,
   "id": "22a214fe",
   "metadata": {},
   "outputs": [],
   "source": [
    "import qiskit\n",
    "from qiskit import QuantumCircuit\n",
    "\n",
    "circuit = QuantumCircuit(2)\n",
    "circuit.cz(0,1)\n",
    "circuit.draw(\"mpl\")"
   ]
  },
  {
   "cell_type": "code",
   "execution_count": null,
   "id": "3593c4f4",
   "metadata": {},
   "outputs": [],
   "source": [
    "from qiskit_aer import Aer\n",
    "from qiskit.visualization import plot_bloch_multivector\n",
    "\n",
    "backend = Aer.get_backend(\"statevector_simulator\")\n",
    "compiled_circuit = qiskit.transpile(circuit, backend=backend)\n",
    "out = backend.run(compiled_circuit).result().get_statevector()\n",
    "\n",
    "plot_bloch_multivector(out) "
   ]
  },
  {
   "cell_type": "code",
   "execution_count": null,
   "id": "e4fd3581",
   "metadata": {},
   "outputs": [],
   "source": [
    "import qiskit\n",
    "from qiskit import QuantumCircuit\n",
    "\n",
    "circuit = QuantumCircuit(2)\n",
    "circuit.x(0)\n",
    "circuit.cz(0,1)\n",
    "circuit.draw(\"mpl\")"
   ]
  },
  {
   "cell_type": "code",
   "execution_count": null,
   "id": "610e0920",
   "metadata": {},
   "outputs": [],
   "source": [
    "from qiskit_aer import Aer\n",
    "from qiskit.visualization import plot_bloch_multivector\n",
    "\n",
    "backend = Aer.get_backend(\"statevector_simulator\")\n",
    "compiled_circuit = qiskit.transpile(circuit, backend=backend)\n",
    "out = backend.run(compiled_circuit).result().get_statevector()\n",
    "\n",
    "plot_bloch_multivector(out) "
   ]
  },
  {
   "cell_type": "code",
   "execution_count": null,
   "id": "4b167e7e",
   "metadata": {},
   "outputs": [],
   "source": [
    "import qiskit\n",
    "from qiskit import QuantumCircuit\n",
    "\n",
    "circuit = QuantumCircuit(2)\n",
    "circuit.x(1)\n",
    "circuit.cz(0,1)\n",
    "circuit.draw(\"mpl\")"
   ]
  },
  {
   "cell_type": "code",
   "execution_count": null,
   "id": "17d3b48a",
   "metadata": {},
   "outputs": [],
   "source": [
    "from qiskit_aer import Aer\n",
    "from qiskit.visualization import plot_bloch_multivector\n",
    "\n",
    "backend = Aer.get_backend(\"statevector_simulator\")\n",
    "compiled_circuit = qiskit.transpile(circuit, backend=backend)\n",
    "out = backend.run(compiled_circuit).result().get_statevector()\n",
    "\n",
    "plot_bloch_multivector(out) "
   ]
  },
  {
   "cell_type": "code",
   "execution_count": null,
   "id": "4e362cc4",
   "metadata": {},
   "outputs": [],
   "source": [
    "import qiskit\n",
    "from qiskit import QuantumCircuit\n",
    "\n",
    "circuit = QuantumCircuit(2)\n",
    "circuit.x(0)\n",
    "circuit.x(1)\n",
    "circuit.cz(0,1)\n",
    "circuit.draw(\"mpl\")"
   ]
  },
  {
   "cell_type": "code",
   "execution_count": null,
   "id": "02daf1ec",
   "metadata": {},
   "outputs": [],
   "source": [
    "from qiskit_aer import Aer\n",
    "from qiskit.visualization import plot_bloch_multivector\n",
    "\n",
    "backend = Aer.get_backend(\"statevector_simulator\")\n",
    "compiled_circuit = qiskit.transpile(circuit, backend=backend)\n",
    "out = backend.run(compiled_circuit).result().get_statevector()\n",
    "\n",
    "plot_bloch_multivector(out) "
   ]
  },
  {
   "cell_type": "code",
   "execution_count": null,
   "id": "0ce973e2",
   "metadata": {},
   "outputs": [],
   "source": []
  }
 ],
 "metadata": {
  "kernelspec": {
   "display_name": "cwq",
   "language": "python",
   "name": "python3"
  },
  "language_info": {
   "codemirror_mode": {
    "name": "ipython",
    "version": 3
   },
   "file_extension": ".py",
   "mimetype": "text/x-python",
   "name": "python",
   "nbconvert_exporter": "python",
   "pygments_lexer": "ipython3",
   "version": "3.13.3"
  }
 },
 "nbformat": 4,
 "nbformat_minor": 5
}
