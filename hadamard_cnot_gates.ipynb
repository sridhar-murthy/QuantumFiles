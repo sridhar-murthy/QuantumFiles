{
 "cells": [
  {
   "cell_type": "markdown",
   "id": "66105d98",
   "metadata": {},
   "source": [
    "# Hadamard and CNOT gates"
   ]
  },
  {
   "cell_type": "code",
   "execution_count": null,
   "id": "d1b58393",
   "metadata": {},
   "outputs": [],
   "source": [
    "import qiskit\n",
    "from qiskit_aer import Aer\n",
    "from qiskit.visualization import plot_histogram, plot_bloch_multivector\n",
    "from qiskit import QuantumCircuit\n",
    "\n",
    "circuit = QuantumCircuit(2)\n",
    "\n",
    "circuit.h(0)\n",
    "#circuit.x(1)\n",
    "circuit.h(1)\n",
    "circuit.cx(0,1)\n",
    "\n",
    "circuit.draw(output='mpl')      "
   ]
  },
  {
   "cell_type": "code",
   "execution_count": null,
   "id": "2275fe0b",
   "metadata": {},
   "outputs": [],
   "source": [
    "simulator = Aer.get_backend('statevector_simulator')\n",
    "\n",
    "compiled_circuit = qiskit.transpile(circuit, backend=simulator)\n",
    "compiled_circuit.measure_all() \n",
    "result = simulator.run(compiled_circuit, shots=1024).result()\n",
    "\n",
    "statevector = simulator.run(circuit).result().get_statevector()\n",
    "plot_bloch_multivector(statevector)"
   ]
  },
  {
   "cell_type": "code",
   "execution_count": null,
   "id": "eceffd41",
   "metadata": {},
   "outputs": [],
   "source": []
  }
 ],
 "metadata": {
  "kernelspec": {
   "display_name": "cwq",
   "language": "python",
   "name": "python3"
  },
  "language_info": {
   "codemirror_mode": {
    "name": "ipython",
    "version": 3
   },
   "file_extension": ".py",
   "mimetype": "text/x-python",
   "name": "python",
   "nbconvert_exporter": "python",
   "pygments_lexer": "ipython3",
   "version": "3.13.3"
  }
 },
 "nbformat": 4,
 "nbformat_minor": 5
}
