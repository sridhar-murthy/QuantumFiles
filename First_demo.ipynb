{
 "cells": [
  {
   "cell_type": "code",
   "execution_count": null,
   "id": "eedb438d",
   "metadata": {},
   "outputs": [],
   "source": [
    "import qiskit\n",
    "from qiskit import QuantumCircuit\n",
    "from qiskit_aer import AerSimulator\n",
    "from qiskit.visualization import plot_histogram\n",
    "\n",
    "# Create a simple quantum circuit\n",
    "qc = QuantumCircuit(1, 1)\n",
    "qc.h(0)\n",
    "qc.measure(0, 0)\n",
    "# Run the circuit on a simulator\n",
    "simulator = AerSimulator()  \n",
    "compiled_circuit = qiskit.transpile(qc, simulator)  \n",
    "compiled_circuit.measure_all() \n",
    "out = simulator.run(compiled_circuit,shots=1024).result().get_counts()  \n",
    "# Plot the results\n",
    "# plot_histogram(out, filename='histogram.png')\n",
    "plot_histogram(out)\n",
    "\n"
   ]
  }
 ],
 "metadata": {
  "kernelspec": {
   "display_name": "cwq",
   "language": "python",
   "name": "python3"
  },
  "language_info": {
   "codemirror_mode": {
    "name": "ipython",
    "version": 3
   },
   "file_extension": ".py",
   "mimetype": "text/x-python",
   "name": "python",
   "nbconvert_exporter": "python",
   "pygments_lexer": "ipython3",
   "version": "3.13.3"
  }
 },
 "nbformat": 4,
 "nbformat_minor": 5
}
