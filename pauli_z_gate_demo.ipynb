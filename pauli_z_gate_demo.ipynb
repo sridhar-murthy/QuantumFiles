{
 "cells": [
  {
   "cell_type": "code",
   "execution_count": null,
   "id": "37835381",
   "metadata": {},
   "outputs": [],
   "source": [
    "import qiskit\n",
    "from qiskit import QuantumCircuit\n",
    "\n",
    "circuit = QuantumCircuit(1)\n",
    "circuit.x(0)\n",
    "circuit.z(0)\n",
    "circuit.draw(\"mpl\")"
   ]
  },
  {
   "cell_type": "code",
   "execution_count": null,
   "id": "96b8aec9",
   "metadata": {},
   "outputs": [],
   "source": [
    "from qiskit.visualization import visualize_transition\n",
    "visualize_transition(circuit)"
   ]
  },
  {
   "cell_type": "code",
   "execution_count": null,
   "id": "bc60fc07",
   "metadata": {},
   "outputs": [],
   "source": []
  }
 ],
 "metadata": {
  "kernelspec": {
   "display_name": "cwq",
   "language": "python",
   "name": "python3"
  },
  "language_info": {
   "codemirror_mode": {
    "name": "ipython",
    "version": 3
   },
   "file_extension": ".py",
   "mimetype": "text/x-python",
   "name": "python",
   "nbconvert_exporter": "python",
   "pygments_lexer": "ipython3",
   "version": "3.13.3"
  }
 },
 "nbformat": 4,
 "nbformat_minor": 5
}
