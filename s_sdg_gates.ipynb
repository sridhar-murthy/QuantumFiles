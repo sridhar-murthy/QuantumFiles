{
 "cells": [
  {
   "cell_type": "code",
   "execution_count": null,
   "id": "f76aab7e",
   "metadata": {},
   "outputs": [],
   "source": [
    "import qiskit\n",
    "from qiskit import QuantumCircuit\n",
    "\n",
    "circuit = QuantumCircuit(1)\n",
    "circuit.h(0)  \n",
    "circuit.s(0)\n",
    "circuit.draw(\"mpl\")"
   ]
  },
  {
   "cell_type": "code",
   "execution_count": null,
   "id": "7203e4bf",
   "metadata": {},
   "outputs": [],
   "source": [
    "from qiskit_aer import Aer\n",
    "from qiskit.visualization import plot_bloch_multivector\n",
    "\n",
    "backend = Aer.get_backend(\"statevector_simulator\")\n",
    "compiled_circuit = qiskit.transpile(circuit, backend=backend)\n",
    "out = backend.run(compiled_circuit).result().get_statevector()\n",
    "\n",
    "plot_bloch_multivector(out)"
   ]
  },
  {
   "cell_type": "code",
   "execution_count": null,
   "id": "2d5481dc",
   "metadata": {},
   "outputs": [],
   "source": []
  },
  {
   "cell_type": "code",
   "execution_count": null,
   "id": "dd68da1f",
   "metadata": {},
   "outputs": [],
   "source": [
    "from qiskit.visualization import visualize_transition\n",
    "visualize_transition(circuit)"
   ]
  },
  {
   "cell_type": "code",
   "execution_count": null,
   "id": "0441a164",
   "metadata": {},
   "outputs": [],
   "source": [
    "circuit2 = QuantumCircuit(1)\n",
    "circuit2.h(0)\n",
    "circuit2.s(0)  \n",
    "circuit2.s(0)\n",
    "circuit2.draw(\"mpl\")"
   ]
  },
  {
   "cell_type": "code",
   "execution_count": null,
   "id": "1455a8ab",
   "metadata": {},
   "outputs": [],
   "source": [
    "from qiskit.visualization import visualize_transition\n",
    "visualize_transition(circuit2)"
   ]
  },
  {
   "cell_type": "code",
   "execution_count": null,
   "id": "e76a63eb",
   "metadata": {},
   "outputs": [],
   "source": [
    "circuit3 = QuantumCircuit(1)\n",
    "circuit3.h(0)\n",
    "circuit3.sdg(0)  \n",
    "circuit3.draw(\"mpl\")"
   ]
  },
  {
   "cell_type": "code",
   "execution_count": null,
   "id": "bbe8be48",
   "metadata": {},
   "outputs": [],
   "source": [
    "from qiskit.visualization import visualize_transition\n",
    "visualize_transition(circuit3)"
   ]
  },
  {
   "cell_type": "code",
   "execution_count": null,
   "id": "600c391c",
   "metadata": {},
   "outputs": [],
   "source": []
  }
 ],
 "metadata": {
  "kernelspec": {
   "display_name": "cwq",
   "language": "python",
   "name": "python3"
  },
  "language_info": {
   "codemirror_mode": {
    "name": "ipython",
    "version": 3
   },
   "file_extension": ".py",
   "mimetype": "text/x-python",
   "name": "python",
   "nbconvert_exporter": "python",
   "pygments_lexer": "ipython3",
   "version": "3.13.3"
  }
 },
 "nbformat": 4,
 "nbformat_minor": 5
}
