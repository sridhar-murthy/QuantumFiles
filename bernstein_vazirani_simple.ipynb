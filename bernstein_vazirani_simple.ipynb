{
 "cells": [
  {
   "cell_type": "code",
   "execution_count": null,
   "id": "c790a34f",
   "metadata": {},
   "outputs": [],
   "source": [
    "import qiskit\n",
    "from qiskit import QuantumCircuit"
   ]
  },
  {
   "cell_type": "code",
   "execution_count": null,
   "id": "26abf207",
   "metadata": {},
   "outputs": [],
   "source": [
    "circuit = QuantumCircuit(8,7)\n",
    "\n",
    "circuit.h([0,1,2,3,4,5,6])\n",
    "circuit.x(7)\n",
    "circuit.h(7)\n",
    "\n",
    "circuit.barrier()\n",
    "circuit.cx(6,7)\n",
    "circuit.cx(2,7)\n",
    "circuit.cx(0,7)\n",
    "circuit.barrier()\n",
    "circuit.h([0,1,2,3,4,5,6])\n",
    "circuit.measure([0,1,2,3,4,5,6],[0,1,2,3,4,5,6])\n",
    "\n",
    "\n",
    "circuit.draw(output='mpl')"
   ]
  },
  {
   "cell_type": "code",
   "execution_count": null,
   "id": "071a58ee",
   "metadata": {},
   "outputs": [],
   "source": [
    "from qiskit_aer import AerSimulator\n",
    "from qiskit.visualization import plot_histogram\n",
    "\n",
    "simulator = AerSimulator()\n",
    "compiled_circuit = qiskit.transpile(circuit, simulator)\n",
    "count = simulator.run(compiled_circuit,shots=1024).result().get_counts()\n",
    "print(count)"
   ]
  },
  {
   "cell_type": "code",
   "execution_count": null,
   "id": "4788a269",
   "metadata": {},
   "outputs": [],
   "source": [
    "plot_histogram(count)\n"
   ]
  }
 ],
 "metadata": {
  "language_info": {
   "name": "python"
  }
 },
 "nbformat": 4,
 "nbformat_minor": 5
}
