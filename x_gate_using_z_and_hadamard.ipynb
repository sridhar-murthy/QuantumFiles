{
 "cells": [
  {
   "cell_type": "code",
   "execution_count": 3,
   "id": "ef612758",
   "metadata": {},
   "outputs": [
    {
     "data": {
      "image/png": "[encoded data removed]",
      "text/plain": [
       "<Figure size 352.675x117.056 with 1 Axes>"
      ]
     },
     "execution_count": 3,
     "metadata": {},
     "output_type": "execute_result"
    }
   ],
   "source": [
    "import qiskit\n",
    "circuit= qiskit.QuantumCircuit(1)\n",
    "circuit.h(0)  \n",
    "circuit.z(0)  \n",
    "circuit.h(0)  \n",
    "circuit.draw('mpl') "
   ]
  },
  {
   "cell_type": "code",
   "execution_count": null,
   "id": "16629af4",
   "metadata": {},
   "outputs": [
    {
     "name": "stderr",
     "output_type": "stream",
     "text": [
      "C:\\Users\\murth\\AppData\\Local\\Temp\\ipykernel_2328\\1442169209.py:2: DeprecationWarning: The function ``qiskit.visualization.transition_visualization.visualize_transition()`` is deprecated as of Qiskit 1.2.0. It will be removed in the 2.0 release.\n",
      "  visualize_transition(circuit)\n"
     ]
    }
   ],
   "source": [
    "from qiskit.visualization import visualize_transition\n",
    "visualize_transition(circuit)"
   ]
  },
  {
   "cell_type": "code",
   "execution_count": null,
   "id": "fa890e6a",
   "metadata": {},
   "outputs": [],
   "source": []
  }
 ],
 "metadata": {
  "kernelspec": {
   "display_name": "cwq",
   "language": "python",
   "name": "python3"
  },
  "language_info": {
   "codemirror_mode": {
    "name": "ipython",
    "version": 3
   },
   "file_extension": ".py",
   "mimetype": "text/x-python",
   "name": "python",
   "nbconvert_exporter": "python",
   "pygments_lexer": "ipython3",
   "version": "3.13.3"
  }
 },
 "nbformat": 4,
 "nbformat_minor": 5
}
