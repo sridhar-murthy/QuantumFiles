{
 "cells": [
  {
   "cell_type": "code",
   "execution_count": null,
   "id": "20b42c1a",
   "metadata": {},
   "outputs": [],
   "source": [
    "import qiskit\n",
    "from qiskit import QuantumCircuit"
   ]
  },
  {
   "cell_type": "code",
   "execution_count": null,
   "id": "f2e973f4",
   "metadata": {},
   "outputs": [],
   "source": [
    "# this is a classical search list\n",
    "myList = [5,4,6,9,1,2,3,7,8,0]\n"
   ]
  },
  {
   "cell_type": "code",
   "execution_count": null,
   "id": "025d42e3",
   "metadata": {},
   "outputs": [],
   "source": [
    "def oracle(number):\n",
    "    winningNumber = 8\n",
    "    if number == winningNumber:\n",
    "        response = True\n",
    "    else:\n",
    "        response = False\n",
    "    return response"
   ]
  },
  {
   "cell_type": "code",
   "execution_count": null,
   "id": "925a4606",
   "metadata": {},
   "outputs": [],
   "source": [
    "for index, number in enumerate(myList):\n",
    "    if oracle(number) is True:\n",
    "        print(f\"winning number index: {index}\")\n",
    "        print(f\"execution count: {index+1}\")\n",
    "        break"
   ]
  },
  {
   "cell_type": "code",
   "execution_count": null,
   "id": "7eeef6e5",
   "metadata": {},
   "outputs": [],
   "source": [
    "#Quantum Model with Grover's Algorithm\n",
    "#Oracle Circuit (WinningNumber = 12)\n",
    "\n",
    "oracleCircuit = QuantumCircuit(2,name='oracleCircuit')\n",
    "oracleCircuit.cz(0,1)\n",
    "oracleCircuit.to_gate()\n",
    "oracleCircuit.draw(output='mpl')"
   ]
  },
  {
   "cell_type": "code",
   "execution_count": null,
   "id": "3669dcf1",
   "metadata": {},
   "outputs": [],
   "source": [
    "mainCircuit = QuantumCircuit(2,2)\n",
    "mainCircuit.h([0,1])\n",
    "mainCircuit.append(oracleCircuit,[0,1])\n",
    "mainCircuit.draw(output='mpl')"
   ]
  },
  {
   "cell_type": "code",
   "execution_count": null,
   "id": "04bebc26",
   "metadata": {},
   "outputs": [],
   "source": [
    "reflectionCircuit = QuantumCircuit(2,name=\"reflectionCircuit\")\n",
    "reflectionCircuit.h([0,1])\n",
    "reflectionCircuit.z([0,1])\n",
    "reflectionCircuit.cz(0,1)\n",
    "reflectionCircuit.h([0,1])\n",
    "reflectionCircuit.to_gate()\n",
    "reflectionCircuit.draw(output='mpl')"
   ]
  },
  {
   "cell_type": "code",
   "execution_count": null,
   "id": "1d59e62b",
   "metadata": {},
   "outputs": [],
   "source": [
    "mainCircuit.append(reflectionCircuit,[0,1])\n",
    "mainCircuit.measure([0,1],[0,1])\n",
    "mainCircuit.draw(output='mpl')"
   ]
  },
  {
   "cell_type": "code",
   "execution_count": null,
   "id": "d8c7eaaa",
   "metadata": {},
   "outputs": [],
   "source": [
    "\n",
    "from qiskit_aer import AerSimulator\n",
    "from qiskit.visualization import plot_histogram\n",
    "\n",
    "simulator = AerSimulator()\n",
    "compiled_circuit = qiskit.transpile(mainCircuit, simulator)\n",
    "out = simulator.run(compiled_circuit, shots=1).result().get_counts()\n",
    "plot_histogram(out) "
   ]
  }
 ],
 "metadata": {
  "kernelspec": {
   "display_name": "cwq",
   "language": "python",
   "name": "python3"
  },
  "language_info": {
   "codemirror_mode": {
    "name": "ipython",
    "version": 3
   },
   "file_extension": ".py",
   "mimetype": "text/x-python",
   "name": "python",
   "nbconvert_exporter": "python",
   "pygments_lexer": "ipython3",
   "version": "3.13.3"
  }
 },
 "nbformat": 4,
 "nbformat_minor": 5
}
