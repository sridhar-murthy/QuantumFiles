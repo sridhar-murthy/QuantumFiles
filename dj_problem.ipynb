{
 "cells": [
  {
   "cell_type": "code",
   "execution_count": null,
   "id": "dc6806bc",
   "metadata": {},
   "outputs": [],
   "source": [
    "import qiskit\n",
    "circuit = qiskit.QuantumCircuit(2)\n",
    "circuit.h(0)\n",
    "circuit.x(1)\n",
    "circuit.h(1)\n",
    "circuit.cx(0,1)\n",
    "circuit.h(0)\n",
    "circuit.draw('mpl')"
   ]
  },
  {
   "cell_type": "code",
   "execution_count": null,
   "id": "774d3227",
   "metadata": {},
   "outputs": [],
   "source": [
    "import qiskit\n",
    "from qiskit.visualization import plot_histogram\n",
    "import numpy as np\n",
    "\n",
    "constant_oracle = qiskit.QuantumCircuit(2)\n",
    "output = np.random.randint(2)\n",
    "\n",
    "if output ==1:\n",
    "    constant_oracle.x(1)\n",
    "\n",
    "constant_oracle.draw('mpl') "
   ]
  },
  {
   "cell_type": "code",
   "execution_count": null,
   "id": "47e7b0f6",
   "metadata": {},
   "outputs": [],
   "source": [
    "balanced_oracle = qiskit.QuantumCircuit(2)\n",
    "balanced_oracle.x(0)\n",
    "balanced_oracle.barrier()\n",
    "balanced_oracle.cx(0,1)\n",
    "balanced_oracle.barrier()\n",
    "balanced_oracle.x(0)\n",
    "balanced_oracle.draw('mpl')"
   ]
  },
  {
   "cell_type": "code",
   "execution_count": null,
   "id": "ddfafc00",
   "metadata": {},
   "outputs": [],
   "source": [
    "import qiskit\n",
    "\n",
    "# initialize the imput qubits in state |+> and output qubit in |->\n",
    "dj_circuit = qiskit.QuantumCircuit(2,1)\n",
    "dj_circuit.h(0)  \n",
    "\n",
    "dj_circuit.x(1)\n",
    "dj_circuit.h(1) \n",
    "\n",
    "oracle_fn = constant_oracle\n",
    "#oracle_fn = balanced_oracle\n",
    "#dj_circuit = dj_circuit + oracle_fn\n",
    "dj_circuit.compose(oracle_fn, inplace=True)\n",
    "dj_circuit.draw('mpl')"
   ]
  },
  {
   "cell_type": "code",
   "execution_count": null,
   "id": "f0debb4e",
   "metadata": {},
   "outputs": [],
   "source": [
    "dj_circuit.h(0)\n",
    "dj_circuit.barrier()\n",
    "dj_circuit.measure(0, 0)  # Measure the first qubit\n",
    "dj_circuit.draw('mpl') "
   ]
  },
  {
   "cell_type": "code",
   "execution_count": null,
   "id": "9d743d13",
   "metadata": {},
   "outputs": [],
   "source": [
    "from qiskit_aer import Aer\n",
    "from qiskit.visualization import plot_histogram\n",
    "\n",
    "backend = Aer.get_backend('qasm_simulator')  \n",
    "shots = 1024\n",
    "compiled_circuit = qiskit.transpile(dj_circuit, backend) \n",
    "out = backend.run(compiled_circuit).result().get_counts()\n",
    "plot_histogram(out)"
   ]
  },
  {
   "cell_type": "code",
   "execution_count": null,
   "id": "ca5f3d48",
   "metadata": {},
   "outputs": [],
   "source": []
  }
 ],
 "metadata": {
  "kernelspec": {
   "display_name": "cwq",
   "language": "python",
   "name": "python3"
  },
  "language_info": {
   "codemirror_mode": {
    "name": "ipython",
    "version": 3
   },
   "file_extension": ".py",
   "mimetype": "text/x-python",
   "name": "python",
   "nbconvert_exporter": "python",
   "pygments_lexer": "ipython3",
   "version": "3.13.3"
  }
 },
 "nbformat": 4,
 "nbformat_minor": 5
}
