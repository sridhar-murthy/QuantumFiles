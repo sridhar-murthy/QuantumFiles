{
 "cells": [
  {
   "cell_type": "markdown",
   "id": "669d0df0",
   "metadata": {},
   "source": [
    "# CNOT on 2 qubit with state 00"
   ]
  },
  {
   "cell_type": "code",
   "execution_count": null,
   "id": "713a55d9",
   "metadata": {},
   "outputs": [],
   "source": [
    "import qiskit\n",
    "from qiskit import QuantumCircuit\n",
    "\n",
    "circuit = QuantumCircuit(2)\n",
    "circuit.cx(0,1)\n",
    "circuit.draw(\"mpl\")"
   ]
  },
  {
   "cell_type": "code",
   "execution_count": null,
   "id": "517dee49",
   "metadata": {},
   "outputs": [],
   "source": [
    "from qiskit_aer import Aer\n",
    "from qiskit.visualization import plot_bloch_multivector\n",
    "\n",
    "backend = Aer.get_backend(\"statevector_simulator\")\n",
    "compiled_circuit = qiskit.transpile(circuit, backend=backend)\n",
    "out = backend.run(compiled_circuit).result().get_statevector()\n",
    "\n",
    "plot_bloch_multivector(out) "
   ]
  },
  {
   "cell_type": "code",
   "execution_count": null,
   "id": "5b411aa8",
   "metadata": {},
   "outputs": [],
   "source": [
    "from qiskit_aer import AerSimulator\n",
    "from qiskit.visualization import plot_histogram\n",
    "simulator = AerSimulator()  \n",
    "compiled_circuit = qiskit.transpile(circuit, simulator)  \n",
    "compiled_circuit.measure_all() \n",
    "out = simulator.run(compiled_circuit,shots=1024).result().get_counts()  \n",
    "plot_histogram(out)  "
   ]
  },
  {
   "cell_type": "markdown",
   "id": "f318fb1e",
   "metadata": {},
   "source": [
    "# CNOT on 2 qubit with state 01"
   ]
  },
  {
   "cell_type": "code",
   "execution_count": null,
   "id": "14301196",
   "metadata": {},
   "outputs": [],
   "source": [
    "import qiskit\n",
    "from qiskit import QuantumCircuit\n",
    "\n",
    "circuit = QuantumCircuit(2)\n",
    "circuit.x(0)\n",
    "circuit.cx(0,1)\n",
    "circuit.draw(\"mpl\")"
   ]
  },
  {
   "cell_type": "code",
   "execution_count": null,
   "id": "7eb5d561",
   "metadata": {},
   "outputs": [],
   "source": [
    "from qiskit_aer import Aer\n",
    "from qiskit.visualization import plot_bloch_multivector\n",
    "\n",
    "backend = Aer.get_backend(\"statevector_simulator\")\n",
    "compiled_circuit = qiskit.transpile(circuit, backend=backend)\n",
    "out = backend.run(compiled_circuit).result().get_statevector()\n",
    "\n",
    "plot_bloch_multivector(out) "
   ]
  },
  {
   "cell_type": "markdown",
   "id": "7fdfa773",
   "metadata": {},
   "source": [
    "# CNOT on 2 qubit with state 10"
   ]
  },
  {
   "cell_type": "code",
   "execution_count": null,
   "id": "70e0eaeb",
   "metadata": {},
   "outputs": [],
   "source": [
    "import qiskit\n",
    "from qiskit import QuantumCircuit\n",
    "\n",
    "circuit = QuantumCircuit(2)\n",
    "circuit.x(1)\n",
    "circuit.cx(0,1)\n",
    "circuit.draw(\"mpl\")"
   ]
  },
  {
   "cell_type": "code",
   "execution_count": null,
   "id": "70143f45",
   "metadata": {},
   "outputs": [],
   "source": [
    "from qiskit_aer import Aer\n",
    "from qiskit.visualization import plot_bloch_multivector\n",
    "\n",
    "backend = Aer.get_backend(\"statevector_simulator\")\n",
    "compiled_circuit = qiskit.transpile(circuit, backend=backend)\n",
    "out = backend.run(compiled_circuit).result().get_statevector()\n",
    "\n",
    "plot_bloch_multivector(out) "
   ]
  },
  {
   "cell_type": "markdown",
   "id": "95954f89",
   "metadata": {},
   "source": [
    "# CNOT on 2 qubit with state 11"
   ]
  },
  {
   "cell_type": "code",
   "execution_count": null,
   "id": "2c0754df",
   "metadata": {},
   "outputs": [],
   "source": [
    "import qiskit\n",
    "from qiskit import QuantumCircuit\n",
    "\n",
    "circuit = QuantumCircuit(2)\n",
    "circuit.x(0)\n",
    "circuit.x(1)\n",
    "circuit.cx(0,1)\n",
    "circuit.draw(\"mpl\")"
   ]
  },
  {
   "cell_type": "code",
   "execution_count": null,
   "id": "fa0cf4a7",
   "metadata": {},
   "outputs": [],
   "source": [
    "from qiskit_aer import Aer\n",
    "from qiskit.visualization import plot_bloch_multivector\n",
    "\n",
    "backend = Aer.get_backend(\"statevector_simulator\")\n",
    "compiled_circuit = qiskit.transpile(circuit, backend=backend)\n",
    "out = backend.run(compiled_circuit).result().get_statevector()\n",
    "\n",
    "plot_bloch_multivector(out) "
   ]
  },
  {
   "cell_type": "code",
   "execution_count": null,
   "id": "5e28254d",
   "metadata": {},
   "outputs": [],
   "source": []
  }
 ],
 "metadata": {
  "kernelspec": {
   "display_name": "cwq",
   "language": "python",
   "name": "python3"
  },
  "language_info": {
   "codemirror_mode": {
    "name": "ipython",
    "version": 3
   },
   "file_extension": ".py",
   "mimetype": "text/x-python",
   "name": "python",
   "nbconvert_exporter": "python",
   "pygments_lexer": "ipython3",
   "version": "3.13.3"
  }
 },
 "nbformat": 4,
 "nbformat_minor": 5
}
