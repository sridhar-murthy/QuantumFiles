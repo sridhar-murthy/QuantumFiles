{
 "cells": [
  {
   "cell_type": "markdown",
   "id": "bfbca7de",
   "metadata": {},
   "source": [
    "# custom roation of qubit in x axis"
   ]
  },
  {
   "cell_type": "code",
   "execution_count": null,
   "id": "0758fb93",
   "metadata": {},
   "outputs": [],
   "source": [
    "import qiskit\n",
    "import math\n",
    "from qiskit_aer import Aer\n",
    "from qiskit.visualization import plot_histogram, plot_bloch_multivector\n",
    "from qiskit import QuantumCircuit\n",
    "\n",
    "circuit = QuantumCircuit(2)\n",
    "\n",
    "circuit.rx(math.pi/2, 0)\n",
    "circuit.rx(math.pi/4, 1)\n",
    "\n",
    "simulator = Aer.get_backend('statevector_simulator')\n",
    "\n",
    "compiled_circuit = qiskit.transpile(circuit, backend=simulator)\n",
    "compiled_circuit.measure_all() \n",
    "result = simulator.run(compiled_circuit, shots=1024).result()\n",
    "\n",
    "statevector = simulator.run(circuit).result().get_statevector()\n",
    "plot_bloch_multivector(statevector)"
   ]
  },
  {
   "cell_type": "markdown",
   "id": "2030921f",
   "metadata": {},
   "source": [
    "# custon roation of qubit in y axis"
   ]
  },
  {
   "cell_type": "code",
   "execution_count": null,
   "id": "63850e7b",
   "metadata": {},
   "outputs": [],
   "source": [
    "import qiskit\n",
    "import math\n",
    "from qiskit_aer import Aer\n",
    "from qiskit.visualization import plot_histogram, plot_bloch_multivector\n",
    "from qiskit import QuantumCircuit\n",
    "\n",
    "circuit = QuantumCircuit(2)\n",
    "circuit.ry(math.pi/2, 0)\n",
    "circuit.ry(math.pi/4, 1)\n",
    "\n",
    "simulator = Aer.get_backend('statevector_simulator')\n",
    "\n",
    "compiled_circuit = qiskit.transpile(circuit, backend=simulator)\n",
    "compiled_circuit.measure_all() \n",
    "result = simulator.run(compiled_circuit, shots=1024).result()\n",
    "\n",
    "statevector = simulator.run(circuit).result().get_statevector()\n",
    "plot_bloch_multivector(statevector)"
   ]
  },
  {
   "cell_type": "markdown",
   "id": "46fce2ae",
   "metadata": {},
   "source": [
    "# custom rotation of qubit in z axis"
   ]
  },
  {
   "cell_type": "code",
   "execution_count": null,
   "id": "782a21b8",
   "metadata": {},
   "outputs": [],
   "source": [
    "import qiskit\n",
    "import math\n",
    "from qiskit_aer import Aer\n",
    "from qiskit.visualization import plot_histogram, plot_bloch_multivector\n",
    "from qiskit import QuantumCircuit\n",
    "\n",
    "circuit = QuantumCircuit(2)\n",
    "circuit.rz(math.pi/2, 0)\n",
    "circuit.rz(math.pi/4, 1)\n",
    "\n",
    "simulator = Aer.get_backend('statevector_simulator')\n",
    "\n",
    "compiled_circuit = qiskit.transpile(circuit, backend=simulator)\n",
    "compiled_circuit.measure_all() \n",
    "result = simulator.run(compiled_circuit, shots=1024).result()\n",
    "\n",
    "statevector = simulator.run(circuit).result().get_statevector()\n",
    "plot_bloch_multivector(statevector)"
   ]
  },
  {
   "cell_type": "markdown",
   "id": "5652054a",
   "metadata": {},
   "source": [
    "# roation of qubit on z axis using hadamard gate"
   ]
  },
  {
   "cell_type": "code",
   "execution_count": null,
   "id": "7e4e998c",
   "metadata": {},
   "outputs": [],
   "source": [
    "import qiskit\n",
    "from qiskit_aer import Aer\n",
    "from qiskit.visualization import plot_histogram, plot_bloch_multivector\n",
    "from qiskit import QuantumCircuit\n",
    "\n",
    "circuit = QuantumCircuit(2)\n",
    "circuit.h(0)\n",
    "circuit.h(1)\n",
    "circuit.rz(math.pi/2, 0)\n",
    "circuit.rz(math.pi/4, 1)\n",
    "\n",
    "simulator = Aer.get_backend('statevector_simulator')\n",
    "\n",
    "compiled_circuit = qiskit.transpile(circuit, backend=simulator)\n",
    "compiled_circuit.measure_all() \n",
    "result = simulator.run(compiled_circuit, shots=1024).result()\n",
    "\n",
    "statevector = simulator.run(circuit).result().get_statevector()\n",
    "plot_bloch_multivector(statevector)"
   ]
  }
 ],
 "metadata": {
  "kernelspec": {
   "display_name": "cwq",
   "language": "python",
   "name": "python3"
  },
  "language_info": {
   "codemirror_mode": {
    "name": "ipython",
    "version": 3
   },
   "file_extension": ".py",
   "mimetype": "text/x-python",
   "name": "python",
   "nbconvert_exporter": "python",
   "pygments_lexer": "ipython3",
   "version": "3.13.3"
  }
 },
 "nbformat": 4,
 "nbformat_minor": 5
}
