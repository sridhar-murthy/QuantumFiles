{
 "cells": [
  {
   "cell_type": "markdown",
   "id": "ce0bf578",
   "metadata": {},
   "source": [
    "# CNOT on 2 qubit with state 00 in superposition"
   ]
  },
  {
   "cell_type": "code",
   "execution_count": null,
   "id": "1db0e648",
   "metadata": {},
   "outputs": [],
   "source": [
    "import qiskit\n",
    "from qiskit import QuantumCircuit\n",
    "\n",
    "circuit = QuantumCircuit(2)\n",
    "circuit.h(0)\n",
    "circuit.h(1)\n",
    "circuit.cx(0,1)\n",
    "# circuit.measure_all()\n",
    "circuit.draw(\"mpl\")"
   ]
  },
  {
   "cell_type": "code",
   "execution_count": null,
   "id": "532e0e11",
   "metadata": {},
   "outputs": [],
   "source": [
    "from qiskit_aer import Aer\n",
    "from qiskit.visualization import plot_bloch_multivector\n",
    "\n",
    "backend = Aer.get_backend(\"statevector_simulator\")\n",
    "compiled_circuit = qiskit.transpile(circuit, backend=backend)\n",
    "out = backend.run(compiled_circuit).result().get_statevector()\n",
    "\n",
    "plot_bloch_multivector(out) "
   ]
  },
  {
   "cell_type": "code",
   "execution_count": null,
   "id": "e51032d5",
   "metadata": {},
   "outputs": [],
   "source": [
    "from qiskit_aer import AerSimulator\n",
    "from qiskit.visualization import plot_histogram\n",
    "simulator = AerSimulator()  \n",
    "compiled_circuit = qiskit.transpile(circuit, simulator)  \n",
    "compiled_circuit.measure_all() \n",
    "out = simulator.run(compiled_circuit,shots=1024).result().get_counts()  \n",
    "plot_histogram(out)  "
   ]
  },
  {
   "cell_type": "markdown",
   "id": "32ec74d2",
   "metadata": {},
   "source": [
    "# CNOT on 2 qubit with state 01 in superposition"
   ]
  },
  {
   "cell_type": "code",
   "execution_count": null,
   "id": "3066c1fe",
   "metadata": {},
   "outputs": [],
   "source": [
    "import qiskit\n",
    "from qiskit import QuantumCircuit\n",
    "\n",
    "circuit = QuantumCircuit(2)\n",
    "circuit.x(0)\n",
    "circuit.h(0)\n",
    "circuit.h(1)\n",
    "circuit.cx(0,1)\n",
    "circuit.draw(\"mpl\")"
   ]
  },
  {
   "cell_type": "code",
   "execution_count": null,
   "id": "d2f6ad8a",
   "metadata": {},
   "outputs": [],
   "source": [
    "from qiskit_aer import Aer\n",
    "from qiskit.visualization import plot_bloch_multivector\n",
    "\n",
    "backend = Aer.get_backend(\"statevector_simulator\")\n",
    "compiled_circuit = qiskit.transpile(circuit, backend=backend)\n",
    "out = backend.run(compiled_circuit).result().get_statevector()\n",
    "\n",
    "plot_bloch_multivector(out) "
   ]
  },
  {
   "cell_type": "markdown",
   "id": "b20454c7",
   "metadata": {},
   "source": [
    "# CNOT on 2 qubit with state 10 in superposition"
   ]
  },
  {
   "cell_type": "code",
   "execution_count": null,
   "id": "e43da254",
   "metadata": {},
   "outputs": [],
   "source": [
    "import qiskit\n",
    "from qiskit import QuantumCircuit\n",
    "\n",
    "circuit = QuantumCircuit(2)\n",
    "circuit.x(1)\n",
    "circuit.h(0)\n",
    "circuit.h(1)\n",
    "circuit.cx(0,1)\n",
    "circuit.draw(\"mpl\")"
   ]
  },
  {
   "cell_type": "code",
   "execution_count": null,
   "id": "9b49670f",
   "metadata": {},
   "outputs": [],
   "source": [
    "from qiskit_aer import Aer\n",
    "from qiskit.visualization import plot_bloch_multivector\n",
    "\n",
    "backend = Aer.get_backend(\"statevector_simulator\")\n",
    "compiled_circuit = qiskit.transpile(circuit, backend=backend)\n",
    "out = backend.run(compiled_circuit).result().get_statevector()\n",
    "\n",
    "plot_bloch_multivector(out) "
   ]
  },
  {
   "cell_type": "markdown",
   "id": "676ecec7",
   "metadata": {},
   "source": [
    "# CNOT on 2 qubit with state 11 in superposition"
   ]
  },
  {
   "cell_type": "code",
   "execution_count": null,
   "id": "fc00ed06",
   "metadata": {},
   "outputs": [],
   "source": [
    "import qiskit\n",
    "from qiskit import QuantumCircuit\n",
    "\n",
    "circuit = QuantumCircuit(2)\n",
    "circuit.x(0)\n",
    "circuit.x(1)\n",
    "circuit.h(0)\n",
    "circuit.h(1)\n",
    "circuit.cx(0,1)\n",
    "circuit.draw(\"mpl\")"
   ]
  },
  {
   "cell_type": "code",
   "execution_count": null,
   "id": "346ded56",
   "metadata": {},
   "outputs": [],
   "source": [
    "from qiskit_aer import Aer\n",
    "from qiskit.visualization import plot_bloch_multivector\n",
    "\n",
    "backend = Aer.get_backend(\"statevector_simulator\")\n",
    "compiled_circuit = qiskit.transpile(circuit, backend=backend)\n",
    "out = backend.run(compiled_circuit).result().get_statevector()\n",
    "\n",
    "plot_bloch_multivector(out) "
   ]
  },
  {
   "cell_type": "code",
   "execution_count": null,
   "id": "cba0a6d3",
   "metadata": {},
   "outputs": [],
   "source": []
  }
 ],
 "metadata": {
  "kernelspec": {
   "display_name": "cwq",
   "language": "python",
   "name": "python3"
  },
  "language_info": {
   "codemirror_mode": {
    "name": "ipython",
    "version": 3
   },
   "file_extension": ".py",
   "mimetype": "text/x-python",
   "name": "python",
   "nbconvert_exporter": "python",
   "pygments_lexer": "ipython3",
   "version": "3.13.3"
  }
 },
 "nbformat": 4,
 "nbformat_minor": 5
}
